{
 "cells": [
  {
   "cell_type": "code",
   "execution_count": 1,
   "metadata": {},
   "outputs": [
    {
     "name": "stdout",
     "output_type": "stream",
     "text": [
      "4/4 [==============================] - 0s 2ms/step - loss: 0.3722\n",
      "WARNING:tensorflow:From /usr/local/lib/python3.6/dist-packages/tensorflow/python/ops/resource_variable_ops.py:1817: calling BaseResourceVariable.__init__ (from tensorflow.python.ops.resource_variable_ops) with constraint is deprecated and will be removed in a future version.\n",
      "Instructions for updating:\n",
      "If using Keras pass *_constraint arguments to layers.\n",
      "INFO:tensorflow:Assets written to: my_model/1/assets\n"
     ]
    }
   ],
   "source": [
    "import numpy as np\n",
    "import tensorflow as tf\n",
    "from tensorflow import keras\n",
    "\n",
    "def get_model():\n",
    "    # Create a simple model.\n",
    "    inputs = keras.Input(shape=(32,))\n",
    "    outputs = keras.layers.Dense(1)(inputs)\n",
    "    model = keras.Model(inputs, outputs)\n",
    "    model.compile(optimizer=\"adam\", loss=\"mean_squared_error\")\n",
    "    return model\n",
    "\n",
    "\n",
    "model = get_model()\n",
    "\n",
    "# Train the model.\n",
    "test_input = np.random.random((128, 32))\n",
    "test_target = np.random.random((128, 1))\n",
    "model.fit(test_input, test_target)\n",
    "\n",
    "# Calling `save('my_model')` creates a SavedModel folder `my_model`.\n",
    "model.save(\"my_model/1\")"
   ]
  },
  {
   "cell_type": "code",
   "execution_count": 2,
   "metadata": {
    "collapsed": true,
    "jupyter": {
     "outputs_hidden": true
    }
   },
   "outputs": [
    {
     "name": "stdout",
     "output_type": "stream",
     "text": [
      "Model: \"model\"\n",
      "_________________________________________________________________\n",
      "Layer (type)                 Output Shape              Param #   \n",
      "=================================================================\n",
      "input_1 (InputLayer)         [(None, 32)]              0         \n",
      "_________________________________________________________________\n",
      "dense (Dense)                (None, 1)                 33        \n",
      "=================================================================\n",
      "Total params: 33\n",
      "Trainable params: 33\n",
      "Non-trainable params: 0\n",
      "_________________________________________________________________\n"
     ]
    }
   ],
   "source": [
    "# model.summary()"
   ]
  },
  {
   "cell_type": "code",
   "execution_count": 3,
   "metadata": {
    "collapsed": true,
    "jupyter": {
     "outputs_hidden": true
    }
   },
   "outputs": [
    {
     "name": "stdout",
     "output_type": "stream",
     "text": [
      "\n",
      "MetaGraphDef with tag-set: 'serve' contains the following SignatureDefs:\n",
      "\n",
      "signature_def['__saved_model_init_op']:\n",
      "  The given SavedModel SignatureDef contains the following input(s):\n",
      "  The given SavedModel SignatureDef contains the following output(s):\n",
      "    outputs['__saved_model_init_op'] tensor_info:\n",
      "        dtype: DT_INVALID\n",
      "        shape: unknown_rank\n",
      "        name: NoOp\n",
      "  Method name is: \n",
      "\n",
      "signature_def['serving_default']:\n",
      "  The given SavedModel SignatureDef contains the following input(s):\n",
      "    inputs['input_1'] tensor_info:\n",
      "        dtype: DT_FLOAT\n",
      "        shape: (-1, 32)\n",
      "        name: serving_default_input_1:0\n",
      "  The given SavedModel SignatureDef contains the following output(s):\n",
      "    outputs['dense'] tensor_info:\n",
      "        dtype: DT_FLOAT\n",
      "        shape: (-1, 1)\n",
      "        name: StatefulPartitionedCall:0\n",
      "  Method name is: tensorflow/serving/predict\n",
      "WARNING:tensorflow:From /usr/local/lib/python3.6/dist-packages/tensorflow/python/ops/resource_variable_ops.py:1817: calling BaseResourceVariable.__init__ (from tensorflow.python.ops.resource_variable_ops) with constraint is deprecated and will be removed in a future version.\n",
      "Instructions for updating:\n",
      "If using Keras pass *_constraint arguments to layers.\n",
      "\n",
      "Defined Functions:\n",
      "  Function Name: '__call__'\n",
      "    Option #1\n",
      "      Callable with:\n",
      "        Argument #1\n",
      "          inputs: TensorSpec(shape=(None, 32), dtype=tf.float32, name='inputs')\n",
      "        Argument #2\n",
      "          DType: bool\n",
      "          Value: False\n",
      "        Argument #3\n",
      "          DType: NoneType\n",
      "          Value: None\n",
      "    Option #2\n",
      "      Callable with:\n",
      "        Argument #1\n",
      "          input_1: TensorSpec(shape=(None, 32), dtype=tf.float32, name='input_1')\n",
      "        Argument #2\n",
      "          DType: bool\n",
      "          Value: False\n",
      "        Argument #3\n",
      "          DType: NoneType\n",
      "          Value: None\n",
      "    Option #3\n",
      "      Callable with:\n",
      "        Argument #1\n",
      "          inputs: TensorSpec(shape=(None, 32), dtype=tf.float32, name='inputs')\n",
      "        Argument #2\n",
      "          DType: bool\n",
      "          Value: True\n",
      "        Argument #3\n",
      "          DType: NoneType\n",
      "          Value: None\n",
      "    Option #4\n",
      "      Callable with:\n",
      "        Argument #1\n",
      "          input_1: TensorSpec(shape=(None, 32), dtype=tf.float32, name='input_1')\n",
      "        Argument #2\n",
      "          DType: bool\n",
      "          Value: True\n",
      "        Argument #3\n",
      "          DType: NoneType\n",
      "          Value: None\n",
      "\n",
      "  Function Name: '_default_save_signature'\n",
      "    Option #1\n",
      "      Callable with:\n",
      "        Argument #1\n",
      "          input_1: TensorSpec(shape=(None, 32), dtype=tf.float32, name='input_1')\n",
      "\n",
      "  Function Name: 'call_and_return_all_conditional_losses'\n",
      "    Option #1\n",
      "      Callable with:\n",
      "        Argument #1\n",
      "          input_1: TensorSpec(shape=(None, 32), dtype=tf.float32, name='input_1')\n",
      "        Argument #2\n",
      "          DType: bool\n",
      "          Value: False\n",
      "        Argument #3\n",
      "          DType: NoneType\n",
      "          Value: None\n",
      "    Option #2\n",
      "      Callable with:\n",
      "        Argument #1\n",
      "          input_1: TensorSpec(shape=(None, 32), dtype=tf.float32, name='input_1')\n",
      "        Argument #2\n",
      "          DType: bool\n",
      "          Value: True\n",
      "        Argument #3\n",
      "          DType: NoneType\n",
      "          Value: None\n",
      "    Option #3\n",
      "      Callable with:\n",
      "        Argument #1\n",
      "          inputs: TensorSpec(shape=(None, 32), dtype=tf.float32, name='inputs')\n",
      "        Argument #2\n",
      "          DType: bool\n",
      "          Value: False\n",
      "        Argument #3\n",
      "          DType: NoneType\n",
      "          Value: None\n",
      "    Option #4\n",
      "      Callable with:\n",
      "        Argument #1\n",
      "          inputs: TensorSpec(shape=(None, 32), dtype=tf.float32, name='inputs')\n",
      "        Argument #2\n",
      "          DType: bool\n",
      "          Value: True\n",
      "        Argument #3\n",
      "          DType: NoneType\n",
      "          Value: None\n"
     ]
    }
   ],
   "source": [
    "!saved_model_cli show --dir my_model/1 --all"
   ]
  },
  {
   "cell_type": "code",
   "execution_count": 9,
   "metadata": {
    "collapsed": true,
    "jupyter": {
     "outputs_hidden": true
    }
   },
   "outputs": [
    {
     "name": "stdout",
     "output_type": "stream",
     "text": [
      "deb http://storage.googleapis.com/tensorflow-serving-apt stable tensorflow-model-server tensorflow-model-server-universal\n",
      "  % Total    % Received % Xferd  Average Speed   Time    Time     Time  Current\n",
      "                                 Dload  Upload   Total   Spent    Left  Speed\n",
      "100  2943  100  2943    0     0   2246      0  0:00:01  0:00:01 --:--:--  2246\n",
      "OK\n",
      "Get:1 http://storage.googleapis.com/tensorflow-serving-apt stable InRelease [3012 B]\n",
      "Get:2 http://storage.googleapis.com/tensorflow-serving-apt stable/tensorflow-model-server-universal amd64 Packages [349 B]\n",
      "Get:3 http://security.ubuntu.com/ubuntu bionic-security InRelease [88.7 kB]    \u001b[0m\u001b[33m\n",
      "Hit:4 http://archive.ubuntu.com/ubuntu bionic InRelease                        \u001b[0m\n",
      "Get:5 http://storage.googleapis.com/tensorflow-serving-apt stable/tensorflow-model-server amd64 Packages [341 B]\n",
      "Get:6 http://archive.ubuntu.com/ubuntu bionic-updates InRelease [88.7 kB]      \u001b[0m\u001b[33m\n",
      "Get:7 http://security.ubuntu.com/ubuntu bionic-security/main amd64 Packages [1037 kB]33m\u001b[33m\n",
      "Get:8 http://archive.ubuntu.com/ubuntu bionic-backports InRelease [74.6 kB]    \u001b[0m\u001b[33m\u001b[33m\n",
      "Get:9 http://archive.ubuntu.com/ubuntu bionic-updates/multiverse amd64 Packages [27.1 kB][33m\n",
      "Get:10 http://archive.ubuntu.com/ubuntu bionic-updates/universe amd64 Packages [1413 kB]\n",
      "Get:11 http://security.ubuntu.com/ubuntu bionic-security/multiverse amd64 Packages [9555 B]3m\n",
      "Get:12 http://security.ubuntu.com/ubuntu bionic-security/universe amd64 Packages [882 kB]\n",
      "Get:13 http://security.ubuntu.com/ubuntu bionic-security/restricted amd64 Packages [100 kB]3m\n",
      "Get:14 http://archive.ubuntu.com/ubuntu bionic-updates/main amd64 Packages [1334 kB][33m\u001b[33m\u001b[33m\u001b[33m\n",
      "Get:15 http://archive.ubuntu.com/ubuntu bionic-updates/restricted amd64 Packages [116 kB][33m\n",
      "Get:16 http://archive.ubuntu.com/ubuntu bionic-backports/universe amd64 Packages [8432 B][33m\n",
      "Ign:17 https://developer.download.nvidia.cn/compute/cuda/repos/ubuntu1804/x86_64  InRelease3m\u001b[33m\u001b[33m\u001b[33m\u001b[33m\u001b[33m\u001b[33m\u001b[33m\n",
      "Ign:18 https://developer.download.nvidia.cn/compute/machine-learning/repos/ubuntu1804/x86_64  InRelease\n",
      "Get:19 https://developer.download.nvidia.cn/compute/cuda/repos/ubuntu1804/x86_64  Release [697 B]m\u001b[33m\n",
      "Get:20 https://developer.download.nvidia.cn/compute/machine-learning/repos/ubuntu1804/x86_64  Release [564 B][33m\u001b[33m\u001b[33m\u001b[33m\u001b[33m\n",
      "Get:21 https://developer.download.nvidia.cn/compute/cuda/repos/ubuntu1804/x86_64  Release.gpg [836 B]3m\n",
      "Err:21 https://developer.download.nvidia.cn/compute/cuda/repos/ubuntu1804/x86_64  Release.gpg\n",
      "  The following signatures were invalid: BADSIG F60F4B3D7FA2AF80 cudatools <cudatools@nvidia.com>\n",
      "Get:22 https://developer.download.nvidia.cn/compute/machine-learning/repos/ubuntu1804/x86_64  Release.gpg [833 B]\n",
      "Get:23 https://developer.download.nvidia.cn/compute/machine-learning/repos/ubuntu1804/x86_64  Packages [43.7 kB]\n",
      "Err:23 https://developer.download.nvidia.cn/compute/machine-learning/repos/ubuntu1804/x86_64  Packages\n",
      "  File has unexpected size (41200 != 43718). Mirror sync in progress? [IP: 61.155.167.2 443]\n",
      "  Hashes of expected file:\n",
      "   - Filesize:43718 [weak]\n",
      "   - SHA256:6950e1417429b8d8cc3155f33d28f79bbca5aca8bba5761d8c823bfc7232f0c5\n",
      "   - SHA1:a7885c9816f560b277a6f97c08bba43d979c1d31 [weak]\n",
      "   - MD5Sum:ff582504e28d54a6fd8686502cbda0bb [weak]\n",
      "  Release file created at: Thu, 23 Jul 2020 05:14:07 +0000\n",
      "Fetched 5186 kB in 21s (247 kB/s)                                              \u001b[0m\n",
      "Reading package lists... Done\n",
      "W: An error occurred during the signature verification. The repository is not updated and the previous index files will be used. GPG error: https://developer.download.nvidia.cn/compute/cuda/repos/ubuntu1804/x86_64  Release: The following signatures were invalid: BADSIG F60F4B3D7FA2AF80 cudatools <cudatools@nvidia.com>\n",
      "W: Failed to fetch https://developer.download.nvidia.com/compute/cuda/repos/ubuntu1804/x86_64/Release.gpg  The following signatures were invalid: BADSIG F60F4B3D7FA2AF80 cudatools <cudatools@nvidia.com>\n",
      "E: Failed to fetch https://developer.download.nvidia.cn/compute/machine-learning/repos/ubuntu1804/x86_64/Packages.gz  File has unexpected size (41200 != 43718). Mirror sync in progress? [IP: 61.155.167.2 443]\n",
      "   Hashes of expected file:\n",
      "    - Filesize:43718 [weak]\n",
      "    - SHA256:6950e1417429b8d8cc3155f33d28f79bbca5aca8bba5761d8c823bfc7232f0c5\n",
      "    - SHA1:a7885c9816f560b277a6f97c08bba43d979c1d31 [weak]\n",
      "    - MD5Sum:ff582504e28d54a6fd8686502cbda0bb [weak]\n",
      "   Release file created at: Thu, 23 Jul 2020 05:14:07 +0000\n",
      "W: Some index files failed to download. They have been ignored, or old ones used instead.\n"
     ]
    }
   ],
   "source": [
    "# This is the same as you would do from your command line, but without the [arch=amd64], and no sudo\n",
    "# You would instead do:\n",
    "# echo \"deb [arch=amd64] http://storage.googleapis.com/tensorflow-serving-apt stable tensorflow-model-server tensorflow-model-server-universal\" | sudo tee /etc/apt/sources.list.d/tensorflow-serving.list && \\\n",
    "# curl https://storage.googleapis.com/tensorflow-serving-apt/tensorflow-serving.release.pub.gpg | sudo apt-key add -\n",
    "\n",
    "!echo \"deb http://storage.googleapis.com/tensorflow-serving-apt stable tensorflow-model-server tensorflow-model-server-universal\" | tee /etc/apt/sources.list.d/tensorflow-serving.list && \\\n",
    "curl https://storage.googleapis.com/tensorflow-serving-apt/tensorflow-serving.release.pub.gpg | apt-key add -\n",
    "!apt update"
   ]
  },
  {
   "cell_type": "code",
   "execution_count": 10,
   "metadata": {
    "collapsed": true,
    "jupyter": {
     "outputs_hidden": true
    }
   },
   "outputs": [
    {
     "name": "stdout",
     "output_type": "stream",
     "text": [
      "Reading package lists... Done\n",
      "Building dependency tree       \n",
      "Reading state information... Done\n",
      "The following NEW packages will be installed:\n",
      "  tensorflow-model-server\n",
      "0 upgraded, 1 newly installed, 0 to remove and 64 not upgraded.\n",
      "Need to get 187 MB of archives.\n",
      "After this operation, 0 B of additional disk space will be used.\n",
      "Get:1 http://storage.googleapis.com/tensorflow-serving-apt stable/tensorflow-model-server amd64 tensorflow-model-server all 2.2.0 [187 MB]\n",
      "Fetched 187 MB in 16s (11.6 MB/s)                                              \n",
      "debconf: delaying package configuration, since apt-utils is not installed\n",
      "Selecting previously unselected package tensorflow-model-server.\n",
      "(Reading database ... 20449 files and directories currently installed.)\n",
      "Preparing to unpack .../tensorflow-model-server_2.2.0_all.deb ...\n",
      "Unpacking tensorflow-model-server (2.2.0) ...\n",
      "Setting up tensorflow-model-server (2.2.0) ...\n"
     ]
    }
   ],
   "source": [
    "!apt-get install tensorflow-model-server"
   ]
  },
  {
   "cell_type": "code",
   "execution_count": null,
   "metadata": {},
   "outputs": [],
   "source": [
    "# tensorflow_model_server   --rest_api_port=8501   --model_base_path=\"/tf/develop/tensorflow-101/experts/code_sample/chapter-7/saved_model\"tensorflow_model_server   --rest_api_port=8501   --model_name=test   --model_base_path=\"/tf/develop/tensorflow-101/experts/code_sample/chapter-7/my_model\""
   ]
  },
  {
   "cell_type": "code",
   "execution_count": 4,
   "metadata": {},
   "outputs": [
    {
     "name": "stdout",
     "output_type": "stream",
     "text": [
      "Data: {\"signature_name\": \"serving_default\", \"instances\": ... 8093713, 0.04353883385346169, 0.44587759367421853]]}\n"
     ]
    }
   ],
   "source": [
    "import json\n",
    "\n",
    "test_input = np.random.random((128, 32)).tolist()\n",
    "\n",
    "data = json.dumps({\"signature_name\": \"serving_default\", \"instances\": test_input})\n",
    "print('Data: {} ... {}'.format(data[:50], data[len(data)-52:]))"
   ]
  },
  {
   "cell_type": "code",
   "execution_count": 6,
   "metadata": {},
   "outputs": [
    {
     "name": "stdout",
     "output_type": "stream",
     "text": [
      "[[0.305242449], [0.0115488935], [0.0236730333], [-0.255960315], [0.216458246], [-0.388122469], [0.250144303], [0.148375377], [0.135872915], [0.410658926], [0.342577934], [0.501954496], [0.58278662], [0.427872568], [-0.132328615], [0.711528778], [0.0487683564], [1.13452196], [0.478393227], [-0.438883632], [0.211962774], [0.003521787], [0.32265994], [-0.0941061825], [-0.217286453], [0.104702607], [-0.222778484], [0.364578873], [-0.371712893], [-0.137581781], [0.36497578], [0.686913073], [-0.216299668], [0.0538681298], [-0.185493156], [-0.0428354591], [-0.169320807], [0.347735375], [-0.1134886], [-0.330542773], [-0.0950512439], [0.533949912], [0.756000519], [0.167955056], [0.121560022], [0.534835517], [0.427884489], [0.278388292], [-0.282165617], [-0.109700814], [0.878007054], [-0.00586619787], [0.441364497], [0.180021688], [0.194043145], [0.556959808], [0.494386613], [0.0912641734], [0.404759824], [0.303757399], [0.00963546522], [0.395944834], [-0.00162012689], [-0.32002452], [-0.286845058], [0.221237227], [0.638914585], [-0.0864835232], [0.545374095], [0.034546122], [0.0426441878], [0.174749851], [0.541310668], [-0.33838287], [0.108567372], [-0.599499226], [0.607184291], [0.218911484], [0.233185723], [0.257428318], [0.275247484], [-0.0980757], [-0.52485317], [-0.628936768], [0.548513293], [0.0771979541], [-0.451522261], [-0.190478638], [0.400423229], [0.139123693], [0.29818511], [-0.102935359], [0.0231848527], [0.463977903], [0.155939594], [0.109996036], [-0.199517056], [0.441543549], [0.421021789], [-0.146471798], [-0.022302432], [-0.157739148], [0.0694496185], [-0.160033092], [0.421970308], [-0.319197118], [0.348402292], [-0.336273164], [0.299198359], [0.0612015873], [0.760448515], [-0.345013767], [0.180016488], [0.453091562], [-0.352266699], [0.543208659], [-0.232497856], [0.562829196], [0.0987073332], [-0.261970878], [0.631016433], [0.25723353], [0.546549737], [0.0364017934], [-0.2499841], [0.551271141], [0.139783219], [0.365667462]]\n"
     ]
    }
   ],
   "source": [
    "import requests\n",
    "headers = {\"content-type\": \"application/json\"}\n",
    "json_response = requests.post('http://localhost:8501/v1/models/test:predict', data=data, headers=headers)\n",
    "predictions = json.loads(json_response.text)['predictions']\n",
    "print(predictions)"
   ]
  },
  {
   "cell_type": "code",
   "execution_count": null,
   "metadata": {},
   "outputs": [],
   "source": []
  }
 ],
 "metadata": {
  "kernelspec": {
   "display_name": "Python 3",
   "language": "python",
   "name": "python3"
  },
  "language_info": {
   "codemirror_mode": {
    "name": "ipython",
    "version": 3
   },
   "file_extension": ".py",
   "mimetype": "text/x-python",
   "name": "python",
   "nbconvert_exporter": "python",
   "pygments_lexer": "ipython3",
   "version": "3.6.9"
  }
 },
 "nbformat": 4,
 "nbformat_minor": 4
}
